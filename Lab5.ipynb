{
 "cells": [
  {
   "cell_type": "markdown",
   "id": "instant-planning",
   "metadata": {
    "id": "instant-planning"
   },
   "source": [
    "# Разделимость данных"
   ]
  },
  {
   "cell_type": "markdown",
   "id": "reserved-slave",
   "metadata": {
    "id": "reserved-slave"
   },
   "source": [
    "Примените алгоритмы уменьшения размерности к данным из предыдущей лабораторной, объясните полученные результаты\n",
    "\n",
    "1. С помощью любого из рассмотренных на лекциях алгоритмов снижения размерности спроецируйте тренировочные данные в 2d пространство. Визуализируйте результаты снижения размерности. Цветом обозначьте категорию объекта\n",
    "1. Примените алгоритм кластеризации к спроецированным данным. Расчитайте средние внутрикластерное и межкласторное расстояния получившейся проекции\n",
    "1. Опишите результаты "
   ]
  },
  {
   "cell_type": "code",
   "execution_count": 1,
   "id": "dlb6ao89NQnW",
   "metadata": {
    "colab": {
     "base_uri": "https://localhost:8080/"
    },
    "id": "dlb6ao89NQnW",
    "outputId": "2810e530-0a9f-4d9a-ea7e-cd5716b280c1"
   },
   "outputs": [],
   "source": [
    "from __future__ import division, print_function\n",
    "import numpy as np\n",
    "import matplotlib.pyplot as plt\n",
    "from sklearn.decomposition import PCA\n",
    "from sklearn import preprocessing\n",
    "import pandas as pd"
   ]
  },
  {
   "cell_type": "code",
   "execution_count": 2,
   "id": "Tfa0RM31Nx_U",
   "metadata": {
    "id": "Tfa0RM31Nx_U"
   },
   "outputs": [
    {
     "data": {
      "text/html": [
       "<div>\n",
       "<style scoped>\n",
       "    .dataframe tbody tr th:only-of-type {\n",
       "        vertical-align: middle;\n",
       "    }\n",
       "\n",
       "    .dataframe tbody tr th {\n",
       "        vertical-align: top;\n",
       "    }\n",
       "\n",
       "    .dataframe thead th {\n",
       "        text-align: right;\n",
       "    }\n",
       "</style>\n",
       "<table border=\"1\" class=\"dataframe\">\n",
       "  <thead>\n",
       "    <tr style=\"text-align: right;\">\n",
       "      <th></th>\n",
       "      <th>rating</th>\n",
       "      <th>b_day</th>\n",
       "      <th>height</th>\n",
       "      <th>weight</th>\n",
       "      <th>salary</th>\n",
       "    </tr>\n",
       "  </thead>\n",
       "  <tbody>\n",
       "    <tr>\n",
       "      <th>0</th>\n",
       "      <td>97</td>\n",
       "      <td>84</td>\n",
       "      <td>2.06</td>\n",
       "      <td>250</td>\n",
       "      <td>2</td>\n",
       "    </tr>\n",
       "    <tr>\n",
       "      <th>1</th>\n",
       "      <td>97</td>\n",
       "      <td>91</td>\n",
       "      <td>2.01</td>\n",
       "      <td>225</td>\n",
       "      <td>2</td>\n",
       "    </tr>\n",
       "    <tr>\n",
       "      <th>2</th>\n",
       "      <td>96</td>\n",
       "      <td>94</td>\n",
       "      <td>2.11</td>\n",
       "      <td>242</td>\n",
       "      <td>2</td>\n",
       "    </tr>\n",
       "    <tr>\n",
       "      <th>3</th>\n",
       "      <td>96</td>\n",
       "      <td>88</td>\n",
       "      <td>2.08</td>\n",
       "      <td>230</td>\n",
       "      <td>2</td>\n",
       "    </tr>\n",
       "    <tr>\n",
       "      <th>4</th>\n",
       "      <td>96</td>\n",
       "      <td>89</td>\n",
       "      <td>1.96</td>\n",
       "      <td>220</td>\n",
       "      <td>2</td>\n",
       "    </tr>\n",
       "  </tbody>\n",
       "</table>\n",
       "</div>"
      ],
      "text/plain": [
       "   rating  b_day  height  weight  salary\n",
       "0      97     84    2.06     250       2\n",
       "1      97     91    2.01     225       2\n",
       "2      96     94    2.11     242       2\n",
       "3      96     88    2.08     230       2\n",
       "4      96     89    1.96     220       2"
      ]
     },
     "execution_count": 2,
     "metadata": {},
     "output_type": "execute_result"
    }
   ],
   "source": [
    "df = pd.read_csv('nba2k20-full.csv')\n",
    "df['b_day'] = df['b_day'].transform(lambda x: int(x.split('/')[2]))\n",
    "df['height'] = df['height'].transform(lambda x: float(x.split('/')[1]))\n",
    "df['weight'] = df['weight'].transform(lambda x: int(x.split('/')[0][:3]))\n",
    "df['salary'] = df['salary'].transform(lambda x: int(x[1:]))\n",
    "df['salary'] = df['salary'].transform(lambda x: min(2, x//10000000))\n",
    "df['b_day'] = df['b_day'].transform(lambda x: x + 100 if x < 70 else x)\n",
    "df.drop(columns=['full_name', 'jersey', 'team', 'position', 'country', 'draft_year', 'draft_round', 'draft_peak', 'college'], inplace=True)\n",
    "df.head()"
   ]
  },
  {
   "cell_type": "code",
   "execution_count": 3,
   "id": "P2cz_2NxSaxk",
   "metadata": {
    "id": "P2cz_2NxSaxk"
   },
   "outputs": [],
   "source": [
    "X = df.drop(columns=['salary'])\n",
    "y = df[['salary']]"
   ]
  },
  {
   "cell_type": "code",
   "execution_count": 4,
   "id": "ad407010",
   "metadata": {},
   "outputs": [
    {
     "data": {
      "text/html": [
       "<div>\n",
       "<style scoped>\n",
       "    .dataframe tbody tr th:only-of-type {\n",
       "        vertical-align: middle;\n",
       "    }\n",
       "\n",
       "    .dataframe tbody tr th {\n",
       "        vertical-align: top;\n",
       "    }\n",
       "\n",
       "    .dataframe thead th {\n",
       "        text-align: right;\n",
       "    }\n",
       "</style>\n",
       "<table border=\"1\" class=\"dataframe\">\n",
       "  <thead>\n",
       "    <tr style=\"text-align: right;\">\n",
       "      <th></th>\n",
       "      <th>rating</th>\n",
       "      <th>b_day</th>\n",
       "      <th>height</th>\n",
       "      <th>weight</th>\n",
       "    </tr>\n",
       "  </thead>\n",
       "  <tbody>\n",
       "    <tr>\n",
       "      <th>0</th>\n",
       "      <td>97</td>\n",
       "      <td>84</td>\n",
       "      <td>2.06</td>\n",
       "      <td>250</td>\n",
       "    </tr>\n",
       "    <tr>\n",
       "      <th>1</th>\n",
       "      <td>97</td>\n",
       "      <td>91</td>\n",
       "      <td>2.01</td>\n",
       "      <td>225</td>\n",
       "    </tr>\n",
       "    <tr>\n",
       "      <th>2</th>\n",
       "      <td>96</td>\n",
       "      <td>94</td>\n",
       "      <td>2.11</td>\n",
       "      <td>242</td>\n",
       "    </tr>\n",
       "    <tr>\n",
       "      <th>3</th>\n",
       "      <td>96</td>\n",
       "      <td>88</td>\n",
       "      <td>2.08</td>\n",
       "      <td>230</td>\n",
       "    </tr>\n",
       "    <tr>\n",
       "      <th>4</th>\n",
       "      <td>96</td>\n",
       "      <td>89</td>\n",
       "      <td>1.96</td>\n",
       "      <td>220</td>\n",
       "    </tr>\n",
       "  </tbody>\n",
       "</table>\n",
       "</div>"
      ],
      "text/plain": [
       "   rating  b_day  height  weight\n",
       "0      97     84    2.06     250\n",
       "1      97     91    2.01     225\n",
       "2      96     94    2.11     242\n",
       "3      96     88    2.08     230\n",
       "4      96     89    1.96     220"
      ]
     },
     "execution_count": 4,
     "metadata": {},
     "output_type": "execute_result"
    }
   ],
   "source": [
    "X.head()"
   ]
  },
  {
   "cell_type": "markdown",
   "id": "cb7c969a",
   "metadata": {},
   "source": [
    "отсюда контент"
   ]
  },
  {
   "cell_type": "code",
   "execution_count": 5,
   "id": "gDkHG-coSa6t",
   "metadata": {
    "id": "gDkHG-coSa6t"
   },
   "outputs": [],
   "source": [
    "for col in X.columns:\n",
    "  X[col] = X[col].apply(lambda x: float(x))\n",
    "  X[col] = (X[col] - np.mean(X[col]))/np.std(X[col])"
   ]
  },
  {
   "cell_type": "code",
   "execution_count": 6,
   "id": "enfg0G00SbAk",
   "metadata": {
    "colab": {
     "base_uri": "https://localhost:8080/"
    },
    "id": "enfg0G00SbAk",
    "outputId": "ecbe09e7-c9f6-4142-c0e3-a12e542c8a84"
   },
   "outputs": [
    {
     "name": "stdout",
     "output_type": "stream",
     "text": [
      "Proportion of variance explained by each component:\n",
      "1st component - 0.44,\n",
      "2nd component - 0.31\n",
      "\n",
      "Directions of principal components:\n",
      "1st component: [ 0.21954875 -0.08915234  0.68262148  0.69128729] \n",
      "2nd component: [ 0.65879783 -0.71910148 -0.18801814 -0.11630851]\n"
     ]
    }
   ],
   "source": [
    "pca = PCA(n_components = 2)\n",
    "X_tr = pca.fit_transform(X)\n",
    "print('Proportion of variance explained by each component:\\n' +\\\n",
    "      '1st component - %.2f,\\n2nd component - %.2f\\n' %\n",
    "      tuple(pca.explained_variance_ratio_)) # дисперсия относительно полученных компоненты\n",
    "print('Directions of principal components:\\n' +\\\n",
    "      '1st component:', pca.components_[0],\n",
    "      '\\n2nd component:', pca.components_[1]) # координаты осей пространства\n",
    "# components - компоненты вектов осей"
   ]
  },
  {
   "cell_type": "code",
   "execution_count": 7,
   "id": "WyfjXcD1SbHU",
   "metadata": {
    "id": "WyfjXcD1SbHU"
   },
   "outputs": [],
   "source": [
    "X_df = pd.DataFrame(data = X_tr\n",
    "             , columns = ['principal component 1', 'principal component 2'])\n",
    "# две кооры для каждого наблюдения, подтягиванием значение salary\n",
    "X_full = pd.concat([X_df, y], axis = 1)"
   ]
  },
  {
   "cell_type": "code",
   "execution_count": 8,
   "id": "SGMaYkHyXxq5",
   "metadata": {
    "colab": {
     "base_uri": "https://localhost:8080/",
     "height": 424
    },
    "id": "SGMaYkHyXxq5",
    "outputId": "be212c72-be23-4188-ba8e-147d59275e8b"
   },
   "outputs": [
    {
     "data": {
      "text/html": [
       "<div>\n",
       "<style scoped>\n",
       "    .dataframe tbody tr th:only-of-type {\n",
       "        vertical-align: middle;\n",
       "    }\n",
       "\n",
       "    .dataframe tbody tr th {\n",
       "        vertical-align: top;\n",
       "    }\n",
       "\n",
       "    .dataframe thead th {\n",
       "        text-align: right;\n",
       "    }\n",
       "</style>\n",
       "<table border=\"1\" class=\"dataframe\">\n",
       "  <thead>\n",
       "    <tr style=\"text-align: right;\">\n",
       "      <th></th>\n",
       "      <th>principal component 1</th>\n",
       "      <th>principal component 2</th>\n",
       "      <th>salary</th>\n",
       "    </tr>\n",
       "  </thead>\n",
       "  <tbody>\n",
       "    <tr>\n",
       "      <th>0</th>\n",
       "      <td>2.590113</td>\n",
       "      <td>3.685860</td>\n",
       "      <td>2</td>\n",
       "    </tr>\n",
       "    <tr>\n",
       "      <th>1</th>\n",
       "      <td>1.284166</td>\n",
       "      <td>2.699248</td>\n",
       "      <td>2</td>\n",
       "    </tr>\n",
       "    <tr>\n",
       "      <th>2</th>\n",
       "      <td>2.505141</td>\n",
       "      <td>1.747196</td>\n",
       "      <td>2</td>\n",
       "    </tr>\n",
       "    <tr>\n",
       "      <th>3</th>\n",
       "      <td>2.032204</td>\n",
       "      <td>2.924675</td>\n",
       "      <td>2</td>\n",
       "    </tr>\n",
       "    <tr>\n",
       "      <th>4</th>\n",
       "      <td>0.730542</td>\n",
       "      <td>3.070335</td>\n",
       "      <td>2</td>\n",
       "    </tr>\n",
       "    <tr>\n",
       "      <th>...</th>\n",
       "      <td>...</td>\n",
       "      <td>...</td>\n",
       "      <td>...</td>\n",
       "    </tr>\n",
       "    <tr>\n",
       "      <th>424</th>\n",
       "      <td>-2.743155</td>\n",
       "      <td>-0.749982</td>\n",
       "      <td>0</td>\n",
       "    </tr>\n",
       "    <tr>\n",
       "      <th>425</th>\n",
       "      <td>-1.470841</td>\n",
       "      <td>-0.855619</td>\n",
       "      <td>0</td>\n",
       "    </tr>\n",
       "    <tr>\n",
       "      <th>426</th>\n",
       "      <td>-0.144759</td>\n",
       "      <td>-1.763641</td>\n",
       "      <td>0</td>\n",
       "    </tr>\n",
       "    <tr>\n",
       "      <th>427</th>\n",
       "      <td>-1.898962</td>\n",
       "      <td>-1.855182</td>\n",
       "      <td>0</td>\n",
       "    </tr>\n",
       "    <tr>\n",
       "      <th>428</th>\n",
       "      <td>-0.244394</td>\n",
       "      <td>-1.272795</td>\n",
       "      <td>0</td>\n",
       "    </tr>\n",
       "  </tbody>\n",
       "</table>\n",
       "<p>429 rows × 3 columns</p>\n",
       "</div>"
      ],
      "text/plain": [
       "     principal component 1  principal component 2  salary\n",
       "0                 2.590113               3.685860       2\n",
       "1                 1.284166               2.699248       2\n",
       "2                 2.505141               1.747196       2\n",
       "3                 2.032204               2.924675       2\n",
       "4                 0.730542               3.070335       2\n",
       "..                     ...                    ...     ...\n",
       "424              -2.743155              -0.749982       0\n",
       "425              -1.470841              -0.855619       0\n",
       "426              -0.144759              -1.763641       0\n",
       "427              -1.898962              -1.855182       0\n",
       "428              -0.244394              -1.272795       0\n",
       "\n",
       "[429 rows x 3 columns]"
      ]
     },
     "execution_count": 8,
     "metadata": {},
     "output_type": "execute_result"
    }
   ],
   "source": [
    "X_full"
   ]
  },
  {
   "cell_type": "code",
   "execution_count": 9,
   "id": "Y50L82J2WwVc",
   "metadata": {
    "colab": {
     "base_uri": "https://localhost:8080/",
     "height": 632
    },
    "id": "Y50L82J2WwVc",
    "outputId": "f28a6637-abf7-44d2-956a-81023e11723d"
   },
   "outputs": [
    {
     "data": {
      "image/png": "[encoded data removed]",
      "text/plain": [
       "<Figure size 720x720 with 1 Axes>"
      ]
     },
     "metadata": {
      "needs_background": "light"
     },
     "output_type": "display_data"
    }
   ],
   "source": [
    "fig = plt.figure(figsize=(10,10))\n",
    "ax = fig.add_subplot(1,1,1) \n",
    "ax.set_xlabel('Principal Component 1', fontsize = 15)\n",
    "ax.set_ylabel('Principal Component 2', fontsize = 15)\n",
    "ax.set_title('NBA2k20 PCA', fontsize = 20)\n",
    "targets = [0, 1, 2]\n",
    "colors = ['r', 'g', 'b']\n",
    "for target, color in zip(targets,colors):\n",
    "    indicesToKeep = X_full['salary'] == target # к каждому таргету цвет, взяли с с дф все кто таргет\n",
    "    ax.scatter(X_full.loc[indicesToKeep, 'principal component 1']\n",
    "               , X_full.loc[indicesToKeep, 'principal component 2']\n",
    "               , c = color\n",
    "               , s = 50)\n",
    "ax.legend(targets)\n",
    "ax.grid()"
   ]
  },
  {
   "cell_type": "code",
   "execution_count": 10,
   "id": "rFiuNNeC37h9",
   "metadata": {
    "colab": {
     "base_uri": "https://localhost:8080/",
     "height": 612
    },
    "id": "rFiuNNeC37h9",
    "outputId": "aa31787a-18d8-4742-c57f-396740604b84"
   },
   "outputs": [
    {
     "data": {
      "image/png": "[encoded data removed]",
      "text/plain": [
       "<Figure size 720x720 with 1 Axes>"
      ]
     },
     "metadata": {
      "needs_background": "light"
     },
     "output_type": "display_data"
    }
   ],
   "source": [
    "import numpy as np\n",
    "import matplotlib.pyplot as plt\n",
    "\n",
    "from sklearn.cluster import KMeans\n",
    "from sklearn.datasets import make_blobs\n",
    "\n",
    "y_pred = KMeans(n_clusters=3, random_state=42).fit_predict(X) + 1\n",
    "\n",
    "fig = plt.figure(figsize=(10,10))\n",
    "ax = fig.add_subplot(1,1,1) \n",
    "\n",
    "ax.set_title('NBA2k20 k-means clustering', fontsize = 20)\n",
    "\n",
    "y_pred_df = pd.DataFrame(data = y_pred\n",
    "             , columns = ['salary'])\n",
    "X_full_pred = pd.concat([X_df, y_pred_df], axis = 1)\n",
    "\n",
    "targets = [0, 1, 2]\n",
    "colors = ['r', 'g', 'b']\n",
    "for target, color in zip(targets,colors):\n",
    "    indicesToKeep = X_full_pred['salary'] == target + 1 # потому что кластеры - 1 2 3, а не 0 1 2\n",
    "    ax.scatter(X_full_pred.loc[indicesToKeep, 'principal component 1']\n",
    "               , X_full_pred.loc[indicesToKeep, 'principal component 2']\n",
    "               , c = color\n",
    "               , s = 50)\n",
    "\n",
    "ax.legend(targets)\n",
    "ax.grid()\n",
    "\n",
    "plt.show()"
   ]
  },
  {
   "cell_type": "code",
   "execution_count": 11,
   "id": "oqQdR2TrbbQw",
   "metadata": {
    "id": "oqQdR2TrbbQw"
   },
   "outputs": [],
   "source": [
    "from sklearn.metrics.pairwise import euclidean_distances\n",
    "\n",
    "inner_dist = 0 # от точки кластера до всех другрих кластера\n",
    "for cluster in X_full_pred['salary'].unique():\n",
    "  M = euclidean_distances(X_full_pred[X_full_pred['salary'] == cluster][['principal component 1', 'principal component 2']], \n",
    "                          X_full_pred[X_full_pred['salary'] == cluster][['principal component 1', 'principal component 2']])\n",
    "  s = 0\n",
    "  cnt = 0\n",
    "  for i in range(0, M.shape[0]):\n",
    "    for j in range(i+1, M.shape[1]):\n",
    "      s += M[i][j]\n",
    "      cnt += 1\n",
    "  \n",
    "  inner_dist += s/cnt # суммируем внутрикластерные каждого кластера\n",
    "inner_dist = inner_dist/len(X_full_pred['salary'].unique()) # получаем среднее по всем кластерам\n",
    "\n",
    "outer_dist = 0 # \n",
    "clusters = set(X_full_pred['salary'].unique())\n",
    "for cluster in clusters:\n",
    "  new_clusters = clusters - set([cluster])\n",
    "  s = 0\n",
    "  cnt = 0\n",
    "  for cluster_new in new_clusters:\n",
    "    M = euclidean_distances(X_full_pred[X_full_pred['salary'] == cluster][['principal component 1', 'principal component 2']],\n",
    "                            X_full_pred[X_full_pred['salary'] == cluster_new][['principal component 1', 'principal component 2']])\n",
    "    for i in range(0, M.shape[0]):\n",
    "      for j in range(i+1, M.shape[1]):\n",
    "        s += M[i][j]\n",
    "        cnt += 1\n",
    "\n",
    "  outer_dist += s/cnt\n",
    "outer_dist = outer_dist/len(X_full_pred['salary'].unique())"
   ]
  },
  {
   "cell_type": "code",
   "execution_count": 12,
   "id": "q1VTrWIs4_su",
   "metadata": {
    "colab": {
     "base_uri": "https://localhost:8080/"
    },
    "id": "q1VTrWIs4_su",
    "outputId": "e38628f0-5971-4f08-b387-97c3ead44f64"
   },
   "outputs": [
    {
     "data": {
      "text/plain": [
       "(1.4051178350405047, 2.551444181243973)"
      ]
     },
     "execution_count": 12,
     "metadata": {},
     "output_type": "execute_result"
    }
   ],
   "source": [
    "inner_dist, outer_dist"
   ]
  },
  {
   "cell_type": "markdown",
   "id": "uSSUdWVUTWak",
   "metadata": {
    "id": "uSSUdWVUTWak"
   },
   "source": [
    "Видим, что алгоритм kmeans плохо справляется с качественной кластеризацией игороков по нашему таргету при применении алгоритма снижения размерности PCA, однако алгоритм в целом кластеризует наблюдения достаточно качественно"
   ]
  }
 ],
 "metadata": {
  "colab": {
   "collapsed_sections": [],
   "name": "Lab_5_final.ipynb",
   "provenance": []
  },
  "kernelspec": {
   "display_name": "Python 3 (ipykernel)",
   "language": "python",
   "name": "python3"
  },
  "language_info": {
   "codemirror_mode": {
    "name": "ipython",
    "version": 3
   },
   "file_extension": ".py",
   "mimetype": "text/x-python",
   "name": "python",
   "nbconvert_exporter": "python",
   "pygments_lexer": "ipython3",
   "version": "3.9.9"
  }
 },
 "nbformat": 4,
 "nbformat_minor": 5
}